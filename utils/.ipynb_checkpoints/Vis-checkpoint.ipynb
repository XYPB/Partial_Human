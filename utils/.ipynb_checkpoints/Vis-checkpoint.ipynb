{
 "cells": [
  {
   "cell_type": "markdown",
   "metadata": {},
   "source": [
    "# Proposal\n",
    "\n",
    "## Performance of HMR vs. Handobj\n",
    "\n",
    "### Human chosen result\n",
    "\n",
    "#### Severval situations that Handobj beats HMR\n",
    "\n",
    "1. Hand only/arm\n",
    "\n",
    "2. Correct body posture but wrong arm/hand postion\n",
    "\n",
    "3. Situations that HMR simply failed\n",
    "\n",
    "### Matching result\n",
    "\n",
    "### Variance statistics of Handobj"
   ]
  },
  {
   "cell_type": "code",
   "execution_count": 12,
   "metadata": {},
   "outputs": [],
   "source": [
    "import json\n",
    "\n",
    "var_res = json.load(open('../data/var_res.json'))"
   ]
  },
  {
   "cell_type": "code",
   "execution_count": 26,
   "metadata": {},
   "outputs": [],
   "source": [
    "import matplotlib.pyplot as plt\n",
    "import numpy as np\n",
    "\n",
    "varss = np.reshape(np.transpose([vs for vs in var_res.values()]), [2 * varss.shape[1]])"
   ]
  },
  {
   "cell_type": "code",
   "execution_count": 37,
   "metadata": {
    "scrolled": false
   },
   "outputs": [
    {
     "name": "stdout",
     "output_type": "stream",
     "text": [
      "[7943, 8244]\n"
     ]
    },
    {
     "data": {
      "image/png": "[encoded data removed]",
      "text/plain": [
       "<Figure size 432x288 with 1 Axes>"
      ]
     },
     "metadata": {
      "needs_background": "light"
     },
     "output_type": "display_data"
    }
   ],
   "source": [
    "remove_large = [coord for coord in varss if coord < 200]\n",
    "print([len(remove_large), varss.shape[0]])\n",
    "res = plt.hist(remove_large, 20)\n",
    "plt.savefig('../data/var_distribution.png', dpi=500)"
   ]
  },
  {
   "cell_type": "code",
   "execution_count": 43,
   "metadata": {},
   "outputs": [
    {
     "name": "stdout",
     "output_type": "stream",
     "text": [
      "2258\n"
     ]
    }
   ],
   "source": [
    "with open('../data/instructions/all/images.txt', 'r') as f:\n",
    "    ins_imgs = ['instructions/all/images/' + line[:-1] for line in f.readlines()]\n",
    "    print(len(ins_imgs))\n",
    "    json.dump(ins_imgs, open('../data/ins_imgs.json', 'w'))"
   ]
  },
  {
   "cell_type": "code",
   "execution_count": null,
   "metadata": {},
   "outputs": [],
   "source": []
  }
 ],
 "metadata": {
  "kernelspec": {
   "display_name": "Python 3",
   "language": "python",
   "name": "python3"
  },
  "language_info": {
   "codemirror_mode": {
    "name": "ipython",
    "version": 3
   },
   "file_extension": ".py",
   "mimetype": "text/x-python",
   "name": "python",
   "nbconvert_exporter": "python",
   "pygments_lexer": "ipython3",
   "version": "3.7.4"
  }
 },
 "nbformat": 4,
 "nbformat_minor": 2
}
